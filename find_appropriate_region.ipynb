{
 "cells": [
  {
   "cell_type": "code",
   "execution_count": 86,
   "id": "afc4bc5c-5e2c-494a-9157-0ce8ac5ef9b2",
   "metadata": {},
   "outputs": [
    {
     "name": "stdout",
     "output_type": "stream",
     "text": [
      "['message=\"Hello World\"', 'x=10', 'y=15']\n",
      "['z=x+y', 'for i in range(z):']\n",
      "['z=x+y']\n",
      "['message=\"Hello World\"', 'x=10', 'y=15', 'z=x+y']\n",
      "['message=\"Hello World\"']\n",
      "['for i in range(z):']\n",
      "['message=\"Hello World\"', 'x=10']\n",
      "['message=\"Hello World\"', 'x=10', 'y=15', 'z=x+y', 'for i in range(z):', '    print(i)']\n",
      "['for i in range(z):', '    print(i)']\n",
      "['z=x+y', 'for i in range(z):']\n",
      "['z=x+y', 'for i in range(z):']\n",
      "['for i in range(z):']\n",
      "['message=\"Hello World\"', 'x=10', 'y=15', 'z=x+y', 'for i in range(z):', '    print(i)']\n",
      "['x=10', 'y=15', 'z=x+y']\n",
      "['message=\"Hello World\"', 'x=10', 'y=15', 'z=x+y', 'for i in range(z):']\n",
      "['z=x+y', 'for i in range(z):', '    print(i)']\n",
      "['y=15']\n",
      "['message=\"Hello World\"']\n",
      "['y=15']\n",
      "['for i in range(z):', '    print(i)']\n",
      "['for i in range(z):']\n",
      "['message=\"Hello World\"', 'x=10']\n",
      "['z=x+y']\n",
      "['y=15', 'z=x+y', 'for i in range(z):']\n",
      "['x=10']\n",
      "['y=15', 'z=x+y', 'for i in range(z):', '    print(i)']\n",
      "['x=10', 'y=15', 'z=x+y', 'for i in range(z):']\n",
      "['for i in range(z):']\n",
      "['z=x+y', 'for i in range(z):']\n",
      "['x=10', 'y=15', 'z=x+y', 'for i in range(z):', '    print(i)']\n",
      "['z=x+y']\n",
      "['x=10', 'y=15', 'z=x+y', 'for i in range(z):', '    print(i)']\n",
      "['for i in range(z):', '    print(i)']\n",
      "['x=10', 'y=15', 'z=x+y', 'for i in range(z):']\n"
     ]
    }
   ],
   "source": [
    "import random\n",
    "\n",
    "code='''message=\"Hello World\"\\nx=10\\ny=15\\nz=x+y\\nfor i in range(z):\\n    print(i)'''\n",
    "lines=code.split(\"\\n\")\n",
    "for attempt in range(len(lines)*6):\n",
    "    i=random.randint(0,len(lines)-1)\n",
    "    if lines[i][0]==\" \":\n",
    "        continue\n",
    "    j=random.randint(i+1,len(lines))\n",
    "    print(lines[i:j])"
   ]
  },
  {
   "cell_type": "code",
   "execution_count": 22,
   "id": "3889526f-b603-4e12-ab19-ab292aa752f2",
   "metadata": {},
   "outputs": [
    {
     "name": "stdout",
     "output_type": "stream",
     "text": [
      "STRING\n",
      "for\n",
      "{'i', 'temp'}\n"
     ]
    }
   ],
   "source": [
    "def add_vars(lines):\n",
    "    undefined_vars={}\n",
    "    it_vars={\"temp\"}\n",
    "    defined_vars={}\n",
    "    for i in range(len(lines)):\n",
    "        if \"for\" in lines[i]:\n",
    "            print(\"for\")\n",
    "            var=\"\"\n",
    "            j=4\n",
    "            while lines[i][j+1:j+3]!=\"in\":\n",
    "                var+=lines[i][j]\n",
    "                j+=1\n",
    "            it_vars.add(var)\n",
    "        if \"=\" in lines[i]:\n",
    "            var=lines[i].split(\"=\")[0]\n",
    "            val=lines[i].split(\"=\")[1]\n",
    "            if val[0]==\"'\" or val[0]=='''\"''':\n",
    "                print(\"STRING\")\n",
    "    print(it_vars)\n",
    "add_vars(['message=\"HELLO WORLD\"', 'x=10', 'y=15', 'z=x+y', 'for i in range(z):', '    print(i)'])"
   ]
  },
  {
   "cell_type": "code",
   "execution_count": 18,
   "id": "67a30a2d-a3d1-43d9-8891-01a93ee0108b",
   "metadata": {},
   "outputs": [
    {
     "data": {
      "text/plain": [
       "'\"'"
      ]
     },
     "execution_count": 18,
     "metadata": {},
     "output_type": "execute_result"
    }
   ],
   "source": [
    "'''\"'''"
   ]
  }
 ],
 "metadata": {
  "kernelspec": {
   "display_name": "Python (llama2)",
   "language": "python",
   "name": "llama2"
  },
  "language_info": {
   "codemirror_mode": {
    "name": "ipython",
    "version": 3
   },
   "file_extension": ".py",
   "mimetype": "text/x-python",
   "name": "python",
   "nbconvert_exporter": "python",
   "pygments_lexer": "ipython3",
   "version": "3.10.12"
  }
 },
 "nbformat": 4,
 "nbformat_minor": 5
}
