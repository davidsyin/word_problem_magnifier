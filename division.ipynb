{
 "cells": [
  {
   "cell_type": "code",
   "execution_count": null,
   "metadata": {},
   "outputs": [],
   "source": [
    "import math\n",
    "def space(a):\n",
    "    a_spaced=\"\"\n",
    "    for i in a:\n",
    "        a_spaced+=i+\" \"\n",
    "    return a_spaced\n",
    "\n",
    "def to_words(a,b):\n",
    "    res=\"\"\n",
    "    res+=a+\" / \"+b+\" = \"\n",
    "    a_spaced=space(a)\n",
    "    res+=a_spaced\n",
    "    res+=\"/ \"\n",
    "    b_spaced=space(b)\n",
    "    res+=b_spaced\n",
    "    res+=\"= \"\n",
    "    res+=\"( \"+a_spaced+\"0\"+\" / \"+b_spaced+\") \"+\"unshifted 1\"\n",
    "    remaining=int(a)*10\n",
    "    res+=\" = \"\n",
    "    mid_reses=[]\n",
    "    while remaining>=int(b):\n",
    "        digits=1\n",
    "        while int(str(remaining)[:digits])<int(b):\n",
    "            digits+=1\n",
    "        curr=str(remaining)[:digits]\n",
    "        if len(a)-digits>0:\n",
    "            res+=\"{ \"\n",
    "        res+=\"( \"\n",
    "        res+=space(curr)+\"/ \"+b\n",
    "        mid_res=math.floor(int(curr)/int(b))\n",
    "        res+=\" = \"+str(mid_res)\n",
    "        mid_reses.append(mid_res*(10**digits))\n",
    "        res+=\" )\"\n",
    "        if len(a)-digits>0:\n",
    "            res+=\" shifted \"+str(digits)\n",
    "            res+=\" }\"\n",
    "        remaining-=mid_res*int(b)*(10**digits)\n",
    "        if remaining>=int(b):\n",
    "            res+=\" + \"\n",
    "    res+=\" = \"\n",
    "    for i in range(len(mid_reses)):\n",
    "        res+=str(mid_reses[i])\n",
    "        if i!=len(mid_reses)-1:\n",
    "            res+=\" + \"\n",
    "    return res\n",
    "to_words(\"486\",\"6\")"
   ]
  }
 ],
 "metadata": {
  "kernelspec": {
   "display_name": "Python 3 (ipykernel)",
   "language": "python",
   "name": "python3"
  },
  "language_info": {
   "codemirror_mode": {
    "name": "ipython",
    "version": 3
   },
   "file_extension": ".py",
   "mimetype": "text/x-python",
   "name": "python",
   "nbconvert_exporter": "python",
   "pygments_lexer": "ipython3",
   "version": "3.10.12"
  }
 },
 "nbformat": 4,
 "nbformat_minor": 4
}
