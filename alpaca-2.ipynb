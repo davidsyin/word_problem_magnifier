{
 "cells": [
  {
   "cell_type": "code",
   "execution_count": null,
   "id": "a7f6feeb-4118-4600-9b24-93ff534e73cf",
   "metadata": {},
   "outputs": [],
   "source": [
    "!pip install -r alpaca-lora/requirements.txt"
   ]
  },
  {
   "cell_type": "code",
   "execution_count": null,
   "id": "ba477e9f-8343-4a31-abee-677789beaa28",
   "metadata": {},
   "outputs": [],
   "source": [
    "!python alpaca-lora/generate.py \\\n",
    "    --load_8bit \\\n",
    "    --base_model '/home/mcwave/models/llama-13b-hf' \\\n",
    "    --lora_weights '/home/mcwave/models/alpaca-lora-13b-mattreid'"
   ]
  },
  {
   "cell_type": "code",
   "execution_count": null,
   "id": "87ba0f41-9114-4ddd-a604-ffc79379b5ec",
   "metadata": {},
   "outputs": [
    {
     "name": "stdout",
     "output_type": "stream",
     "text": [
      "\n",
      "===================================BUG REPORT===================================\n",
      "Welcome to bitsandbytes. For bug reports, please run\n",
      "\n",
      "python -m bitsandbytes\n",
      "\n",
      " and submit this information together with your error trace to: https://github.com/TimDettmers/bitsandbytes/issues\n",
      "================================================================================\n",
      "bin /home/mcwave/anaconda3/envs/torch200/lib/python3.10/site-packages/bitsandbytes/libbitsandbytes_cuda117.so\n",
      "/home/mcwave/anaconda3/envs/torch200/lib/python3.10/site-packages/bitsandbytes/cuda_setup/main.py:149: UserWarning: /home/mcwave/anaconda3/envs/torch200 did not contain ['libcudart.so', 'libcudart.so.11.0', 'libcudart.so.12.0'] as expected! Searching further paths...\n",
      "  warn(msg)\n",
      "/home/mcwave/anaconda3/envs/torch200/lib/python3.10/site-packages/bitsandbytes/cuda_setup/main.py:149: UserWarning: WARNING: The following directories listed in your path were found to be non-existent: {PosixPath('code/word_problem_magnifier/e6671e3a-a3b5-41b2-9864-252c761ea13f')}\n",
      "  warn(msg)\n",
      "/home/mcwave/anaconda3/envs/torch200/lib/python3.10/site-packages/bitsandbytes/cuda_setup/main.py:149: UserWarning: WARNING: The following directories listed in your path were found to be non-existent: {PosixPath('/org/gnome/Terminal/screen/d2d21fc5_4f96_4acf_9218_97701abf63fa')}\n",
      "  warn(msg)\n",
      "/home/mcwave/anaconda3/envs/torch200/lib/python3.10/site-packages/bitsandbytes/cuda_setup/main.py:149: UserWarning: WARNING: The following directories listed in your path were found to be non-existent: {PosixPath('module'), PosixPath('//matplotlib_inline.backend_inline')}\n",
      "  warn(msg)\n",
      "/home/mcwave/anaconda3/envs/torch200/lib/python3.10/site-packages/bitsandbytes/cuda_setup/main.py:149: UserWarning: WARNING: The following directories listed in your path were found to be non-existent: {PosixPath('0'), PosixPath('1')}\n",
      "  warn(msg)\n",
      "/home/mcwave/anaconda3/envs/torch200/lib/python3.10/site-packages/bitsandbytes/cuda_setup/main.py:149: UserWarning: WARNING: The following directories listed in your path were found to be non-existent: {PosixPath('/etc/xdg/xdg-ubuntu')}\n",
      "  warn(msg)\n",
      "/home/mcwave/anaconda3/envs/torch200/lib/python3.10/site-packages/bitsandbytes/cuda_setup/main.py:149: UserWarning: WARNING: The following directories listed in your path were found to be non-existent: {PosixPath('local/mcwave2'), PosixPath('@/tmp/.ICE-unix/1862,unix/mcwave2')}\n",
      "  warn(msg)\n",
      "CUDA_SETUP: WARNING! libcudart.so not found in any environmental path. Searching in backup paths...\n",
      "/home/mcwave/anaconda3/envs/torch200/lib/python3.10/site-packages/bitsandbytes/cuda_setup/main.py:149: UserWarning: Found duplicate ['libcudart.so', 'libcudart.so.11.0', 'libcudart.so.12.0'] files: {PosixPath('/usr/local/cuda/lib64/libcudart.so'), PosixPath('/usr/local/cuda/lib64/libcudart.so.11.0')}.. We'll flip a coin and try one of these, in order to fail forward.\n",
      "Either way, this might cause trouble in the future:\n",
      "If you get `CUDA error: invalid device function` errors, the above might be the cause and the solution is to make sure only one ['libcudart.so', 'libcudart.so.11.0', 'libcudart.so.12.0'] in the paths that we search based on your env.\n",
      "  warn(msg)\n",
      "CUDA SETUP: CUDA runtime path found: /usr/local/cuda/lib64/libcudart.so\n",
      "CUDA SETUP: Highest compute capability among GPUs detected: 8.6\n",
      "CUDA SETUP: Detected CUDA version 117\n",
      "CUDA SETUP: Loading binary /home/mcwave/anaconda3/envs/torch200/lib/python3.10/site-packages/bitsandbytes/libbitsandbytes_cuda117.so...\n",
      "Prompt template:\n",
      "The tokenizer class you load from this checkpoint is not the same type as the class this function is called from. It may result in unexpected tokenization. \n",
      "The tokenizer class you load from this checkpoint is 'LLaMATokenizer'. \n",
      "The class this function is called from is 'LlamaTokenizer'.\n",
      "Loading checkpoint shards:  12%|██               | 5/41 [00:09<01:09,  1.94s/it]"
     ]
    }
   ],
   "source": [
    "!python alpaca-lora/generate.py \\\n",
    "    --load_8bit \\\n",
    "    --base_model '/home/mcwave/models/llama-13b-hf' \\\n",
    "    --lora_weights '/home/mcwave/models/alpaca-lora-13b-chansung'"
   ]
  },
  {
   "cell_type": "code",
   "execution_count": 2,
   "id": "ddfb04b5-853f-4f03-aec9-2a6b1ce121c3",
   "metadata": {},
   "outputs": [
    {
     "name": "stdout",
     "output_type": "stream",
     "text": [
      "\n",
      "===================================BUG REPORT===================================\n",
      "Welcome to bitsandbytes. For bug reports, please run\n",
      "\n",
      "python -m bitsandbytes\n",
      "\n",
      " and submit this information together with your error trace to: https://github.com/TimDettmers/bitsandbytes/issues\n",
      "================================================================================\n",
      "bin /home/mcwave/anaconda3/envs/torch200/lib/python3.10/site-packages/bitsandbytes/libbitsandbytes_cuda117.so\n",
      "/home/mcwave/anaconda3/envs/torch200/lib/python3.10/site-packages/bitsandbytes/cuda_setup/main.py:149: UserWarning: /home/mcwave/anaconda3/envs/torch200 did not contain ['libcudart.so', 'libcudart.so.11.0', 'libcudart.so.12.0'] as expected! Searching further paths...\n",
      "  warn(msg)\n",
      "/home/mcwave/anaconda3/envs/torch200/lib/python3.10/site-packages/bitsandbytes/cuda_setup/main.py:149: UserWarning: WARNING: The following directories listed in your path were found to be non-existent: {PosixPath('code/word_problem_magnifier/3e8b01f5-01dd-4c9e-837b-398011a4d137')}\n",
      "  warn(msg)\n",
      "/home/mcwave/anaconda3/envs/torch200/lib/python3.10/site-packages/bitsandbytes/cuda_setup/main.py:149: UserWarning: WARNING: The following directories listed in your path were found to be non-existent: {PosixPath('/org/gnome/Terminal/screen/2b3b1f34_93c5_4975_8758_99f6e4845d4b')}\n",
      "  warn(msg)\n",
      "/home/mcwave/anaconda3/envs/torch200/lib/python3.10/site-packages/bitsandbytes/cuda_setup/main.py:149: UserWarning: WARNING: The following directories listed in your path were found to be non-existent: {PosixPath('//matplotlib_inline.backend_inline'), PosixPath('module')}\n",
      "  warn(msg)\n",
      "/home/mcwave/anaconda3/envs/torch200/lib/python3.10/site-packages/bitsandbytes/cuda_setup/main.py:149: UserWarning: WARNING: The following directories listed in your path were found to be non-existent: {PosixPath('1'), PosixPath('0')}\n",
      "  warn(msg)\n",
      "/home/mcwave/anaconda3/envs/torch200/lib/python3.10/site-packages/bitsandbytes/cuda_setup/main.py:149: UserWarning: WARNING: The following directories listed in your path were found to be non-existent: {PosixPath('/etc/xdg/xdg-ubuntu')}\n",
      "  warn(msg)\n",
      "/home/mcwave/anaconda3/envs/torch200/lib/python3.10/site-packages/bitsandbytes/cuda_setup/main.py:149: UserWarning: WARNING: The following directories listed in your path were found to be non-existent: {PosixPath('local/mcwave2'), PosixPath('@/tmp/.ICE-unix/1852,unix/mcwave2')}\n",
      "  warn(msg)\n",
      "CUDA_SETUP: WARNING! libcudart.so not found in any environmental path. Searching in backup paths...\n",
      "/home/mcwave/anaconda3/envs/torch200/lib/python3.10/site-packages/bitsandbytes/cuda_setup/main.py:149: UserWarning: Found duplicate ['libcudart.so', 'libcudart.so.11.0', 'libcudart.so.12.0'] files: {PosixPath('/usr/local/cuda/lib64/libcudart.so.11.0'), PosixPath('/usr/local/cuda/lib64/libcudart.so')}.. We'll flip a coin and try one of these, in order to fail forward.\n",
      "Either way, this might cause trouble in the future:\n",
      "If you get `CUDA error: invalid device function` errors, the above might be the cause and the solution is to make sure only one ['libcudart.so', 'libcudart.so.11.0', 'libcudart.so.12.0'] in the paths that we search based on your env.\n",
      "  warn(msg)\n",
      "CUDA SETUP: CUDA runtime path found: /usr/local/cuda/lib64/libcudart.so.11.0\n",
      "CUDA SETUP: Highest compute capability among GPUs detected: 8.6\n",
      "CUDA SETUP: Detected CUDA version 117\n",
      "CUDA SETUP: Loading binary /home/mcwave/anaconda3/envs/torch200/lib/python3.10/site-packages/bitsandbytes/libbitsandbytes_cuda117.so...\n",
      "Training Alpaca-LoRA model with params:\n",
      "base_model: /home/mcwave/models/falcon-40b\n",
      "data_path: /home/mcwave/data/word_problems/word_problems_train_data.jsonl\n",
      "output_dir: ./lora-alpaca\n",
      "batch_size: 128\n",
      "micro_batch_size: 4\n",
      "num_epochs: 3\n",
      "learning_rate: 0.0001\n",
      "cutoff_len: 512\n",
      "val_set_size: 2000\n",
      "lora_r: 8\n",
      "lora_alpha: 16\n",
      "lora_dropout: 0.05\n",
      "lora_target_modules: ['q_proj', 'v_proj']\n",
      "train_on_inputs: True\n",
      "add_eos_token: False\n",
      "group_by_length: True\n",
      "wandb_project: \n",
      "wandb_run_name: \n",
      "wandb_watch: \n",
      "wandb_log_model: \n",
      "resume_from_checkpoint: False\n",
      "prompt template: alpaca\n",
      "\n",
      "You are using a model of type RefinedWeb to instantiate a model of type llama. This is not supported for all configurations of models and can yield errors.\n",
      "^C\n"
     ]
    }
   ],
   "source": [
    "import os\n",
    "os.environ[\"CUDA_VISIBLE_DEVICES\"] = \"1\"\n",
    "!python alpaca-lora/finetune.py \\\n",
    "    --base_model '/home/mcwave/models/falcon-40b' \\\n",
    "    --data_path '/home/mcwave/data/word_problems/word_problems_train_data.jsonl' \\\n",
    "    --output_dir './lora-alpaca' \\\n",
    "    --batch_size 128 \\\n",
    "    --micro_batch_size 4 \\\n",
    "    --num_epochs 3 \\\n",
    "    --learning_rate 1e-4 \\\n",
    "    --cutoff_len 512 \\\n",
    "    --val_set_size 2000 \\\n",
    "    --lora_r 8 \\\n",
    "    --lora_alpha 16 \\\n",
    "    --lora_dropout 0.05 \\\n",
    "    --lora_target_modules '[q_proj,v_proj]' \\\n",
    "    --train_on_inputs \\\n",
    "    --group_by_length"
   ]
  }
 ],
 "metadata": {
  "kernelspec": {
   "display_name": "Python [conda env:torch200]",
   "language": "python",
   "name": "conda-env-torch200-py"
  },
  "language_info": {
   "codemirror_mode": {
    "name": "ipython",
    "version": 3
   },
   "file_extension": ".py",
   "mimetype": "text/x-python",
   "name": "python",
   "nbconvert_exporter": "python",
   "pygments_lexer": "ipython3",
   "version": "3.10.11"
  }
 },
 "nbformat": 4,
 "nbformat_minor": 5
}
